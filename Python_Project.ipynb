{
 "cells": [
  {
   "cell_type": "code",
   "execution_count": 23,
   "id": "7914d062",
   "metadata": {},
   "outputs": [],
   "source": [
    "from selenium import webdriver\n",
    "from selenium.webdriver.common.by import By\n",
    "import pandas as pd\n",
    "from selenium.webdriver.support.select import Select\n",
    "from selenium.webdriver.support.ui import Select\n",
    "import time"
   ]
  },
  {
   "cell_type": "code",
   "execution_count": 24,
   "id": "70c6ef7e",
   "metadata": {},
   "outputs": [],
   "source": [
    "driver=webdriver.Chrome()"
   ]
  },
  {
   "cell_type": "code",
   "execution_count": 25,
   "id": "d0817b7f",
   "metadata": {},
   "outputs": [],
   "source": [
    "url='https://www.amazon.in/s?k=bags&crid=2M096C61O4MLT&qid=1653308124&sprefix=ba%2Caps%2C283&ref=sr_pg_1'\n",
    "driver.get(url)"
   ]
  },
  {
   "cell_type": "markdown",
   "id": "5584933d",
   "metadata": {},
   "source": [
    "# PART-1"
   ]
  },
  {
   "cell_type": "code",
   "execution_count": 26,
   "id": "c4f7aeac",
   "metadata": {},
   "outputs": [
    {
     "ename": "NoSuchElementException",
     "evalue": "Message: no such element: Unable to locate element: {\"method\":\"xpath\",\"selector\":\"//a[@class='s-pagination-item s-pagination-next s-pagination-button s-pagination-separator']\"}\n  (Session info: chrome=111.0.5563.66)\nStacktrace:\nBacktrace:\n\t(No symbol) [0x00EFDCE3]\n\t(No symbol) [0x00E939D1]\n\t(No symbol) [0x00DA4DA8]\n\t(No symbol) [0x00DD019F]\n\t(No symbol) [0x00DD03AB]\n\t(No symbol) [0x00DFEE62]\n\t(No symbol) [0x00DEAF14]\n\t(No symbol) [0x00DFD57C]\n\t(No symbol) [0x00DEACC6]\n\t(No symbol) [0x00DC6F68]\n\t(No symbol) [0x00DC80CD]\n\tGetHandleVerifier [0x01173832+2506274]\n\tGetHandleVerifier [0x011A9794+2727300]\n\tGetHandleVerifier [0x011AE36C+2746716]\n\tGetHandleVerifier [0x00FA6690+617600]\n\t(No symbol) [0x00E9C712]\n\t(No symbol) [0x00EA1FF8]\n\t(No symbol) [0x00EA20DB]\n\t(No symbol) [0x00EAC63B]\n\tBaseThreadInitThunk [0x7716FA29+25]\n\tRtlGetAppContainerNamedObjectPath [0x778C7A9E+286]\n\tRtlGetAppContainerNamedObjectPath [0x778C7A6E+238]\n",
     "output_type": "error",
     "traceback": [
      "\u001b[1;31m---------------------------------------------------------------------------\u001b[0m",
      "\u001b[1;31mNoSuchElementException\u001b[0m                    Traceback (most recent call last)",
      "\u001b[1;32m<ipython-input-26-862257f9df04>\u001b[0m in \u001b[0;36m<module>\u001b[1;34m\u001b[0m\n\u001b[0;32m     22\u001b[0m             \u001b[0mrating\u001b[0m\u001b[1;33m.\u001b[0m\u001b[0mappend\u001b[0m\u001b[1;33m(\u001b[0m\u001b[1;34m''\u001b[0m\u001b[1;33m)\u001b[0m\u001b[1;33m\u001b[0m\u001b[1;33m\u001b[0m\u001b[0m\n\u001b[0;32m     23\u001b[0m             \u001b[0mreviews\u001b[0m\u001b[1;33m.\u001b[0m\u001b[0mappend\u001b[0m\u001b[1;33m(\u001b[0m\u001b[1;34m''\u001b[0m\u001b[1;33m)\u001b[0m\u001b[1;33m\u001b[0m\u001b[1;33m\u001b[0m\u001b[0m\n\u001b[1;32m---> 24\u001b[1;33m     \u001b[0mdriver\u001b[0m\u001b[1;33m.\u001b[0m\u001b[0mexecute_script\u001b[0m\u001b[1;33m(\u001b[0m\u001b[1;34m'arguments[0].click();'\u001b[0m\u001b[1;33m,\u001b[0m\u001b[0mdriver\u001b[0m\u001b[1;33m.\u001b[0m\u001b[0mfind_element\u001b[0m\u001b[1;33m(\u001b[0m\u001b[0mBy\u001b[0m\u001b[1;33m.\u001b[0m\u001b[0mXPATH\u001b[0m\u001b[1;33m,\u001b[0m\u001b[1;34m\"//a[@class='s-pagination-item s-pagination-next s-pagination-button s-pagination-separator']\"\u001b[0m\u001b[1;33m)\u001b[0m\u001b[1;33m)\u001b[0m\u001b[1;33m\u001b[0m\u001b[1;33m\u001b[0m\u001b[0m\n\u001b[0m\u001b[0;32m     25\u001b[0m     \u001b[0mtime\u001b[0m\u001b[1;33m.\u001b[0m\u001b[0msleep\u001b[0m\u001b[1;33m(\u001b[0m\u001b[1;36m2\u001b[0m\u001b[1;33m)\u001b[0m\u001b[1;33m\u001b[0m\u001b[1;33m\u001b[0m\u001b[0m\n\u001b[0;32m     26\u001b[0m     \u001b[0mim\u001b[0m\u001b[1;33m+=\u001b[0m\u001b[1;36m1\u001b[0m\u001b[1;33m\u001b[0m\u001b[1;33m\u001b[0m\u001b[0m\n",
      "\u001b[1;32m~\\anaconda3\\lib\\site-packages\\selenium\\webdriver\\remote\\webdriver.py\u001b[0m in \u001b[0;36mfind_element\u001b[1;34m(self, by, value)\u001b[0m\n\u001b[0;32m    828\u001b[0m             \u001b[0mvalue\u001b[0m \u001b[1;33m=\u001b[0m \u001b[1;34mf'[name=\"{value}\"]'\u001b[0m\u001b[1;33m\u001b[0m\u001b[1;33m\u001b[0m\u001b[0m\n\u001b[0;32m    829\u001b[0m \u001b[1;33m\u001b[0m\u001b[0m\n\u001b[1;32m--> 830\u001b[1;33m         \u001b[1;32mreturn\u001b[0m \u001b[0mself\u001b[0m\u001b[1;33m.\u001b[0m\u001b[0mexecute\u001b[0m\u001b[1;33m(\u001b[0m\u001b[0mCommand\u001b[0m\u001b[1;33m.\u001b[0m\u001b[0mFIND_ELEMENT\u001b[0m\u001b[1;33m,\u001b[0m \u001b[1;33m{\u001b[0m\u001b[1;34m\"using\"\u001b[0m\u001b[1;33m:\u001b[0m \u001b[0mby\u001b[0m\u001b[1;33m,\u001b[0m \u001b[1;34m\"value\"\u001b[0m\u001b[1;33m:\u001b[0m \u001b[0mvalue\u001b[0m\u001b[1;33m}\u001b[0m\u001b[1;33m)\u001b[0m\u001b[1;33m[\u001b[0m\u001b[1;34m\"value\"\u001b[0m\u001b[1;33m]\u001b[0m\u001b[1;33m\u001b[0m\u001b[1;33m\u001b[0m\u001b[0m\n\u001b[0m\u001b[0;32m    831\u001b[0m \u001b[1;33m\u001b[0m\u001b[0m\n\u001b[0;32m    832\u001b[0m     \u001b[1;32mdef\u001b[0m \u001b[0mfind_elements\u001b[0m\u001b[1;33m(\u001b[0m\u001b[0mself\u001b[0m\u001b[1;33m,\u001b[0m \u001b[0mby\u001b[0m\u001b[1;33m=\u001b[0m\u001b[0mBy\u001b[0m\u001b[1;33m.\u001b[0m\u001b[0mID\u001b[0m\u001b[1;33m,\u001b[0m \u001b[0mvalue\u001b[0m\u001b[1;33m:\u001b[0m \u001b[0mOptional\u001b[0m\u001b[1;33m[\u001b[0m\u001b[0mstr\u001b[0m\u001b[1;33m]\u001b[0m \u001b[1;33m=\u001b[0m \u001b[1;32mNone\u001b[0m\u001b[1;33m)\u001b[0m \u001b[1;33m->\u001b[0m \u001b[0mList\u001b[0m\u001b[1;33m[\u001b[0m\u001b[0mWebElement\u001b[0m\u001b[1;33m]\u001b[0m\u001b[1;33m:\u001b[0m\u001b[1;33m\u001b[0m\u001b[1;33m\u001b[0m\u001b[0m\n",
      "\u001b[1;32m~\\anaconda3\\lib\\site-packages\\selenium\\webdriver\\remote\\webdriver.py\u001b[0m in \u001b[0;36mexecute\u001b[1;34m(self, driver_command, params)\u001b[0m\n\u001b[0;32m    438\u001b[0m         \u001b[0mresponse\u001b[0m \u001b[1;33m=\u001b[0m \u001b[0mself\u001b[0m\u001b[1;33m.\u001b[0m\u001b[0mcommand_executor\u001b[0m\u001b[1;33m.\u001b[0m\u001b[0mexecute\u001b[0m\u001b[1;33m(\u001b[0m\u001b[0mdriver_command\u001b[0m\u001b[1;33m,\u001b[0m \u001b[0mparams\u001b[0m\u001b[1;33m)\u001b[0m\u001b[1;33m\u001b[0m\u001b[1;33m\u001b[0m\u001b[0m\n\u001b[0;32m    439\u001b[0m         \u001b[1;32mif\u001b[0m \u001b[0mresponse\u001b[0m\u001b[1;33m:\u001b[0m\u001b[1;33m\u001b[0m\u001b[1;33m\u001b[0m\u001b[0m\n\u001b[1;32m--> 440\u001b[1;33m             \u001b[0mself\u001b[0m\u001b[1;33m.\u001b[0m\u001b[0merror_handler\u001b[0m\u001b[1;33m.\u001b[0m\u001b[0mcheck_response\u001b[0m\u001b[1;33m(\u001b[0m\u001b[0mresponse\u001b[0m\u001b[1;33m)\u001b[0m\u001b[1;33m\u001b[0m\u001b[1;33m\u001b[0m\u001b[0m\n\u001b[0m\u001b[0;32m    441\u001b[0m             \u001b[0mresponse\u001b[0m\u001b[1;33m[\u001b[0m\u001b[1;34m\"value\"\u001b[0m\u001b[1;33m]\u001b[0m \u001b[1;33m=\u001b[0m \u001b[0mself\u001b[0m\u001b[1;33m.\u001b[0m\u001b[0m_unwrap_value\u001b[0m\u001b[1;33m(\u001b[0m\u001b[0mresponse\u001b[0m\u001b[1;33m.\u001b[0m\u001b[0mget\u001b[0m\u001b[1;33m(\u001b[0m\u001b[1;34m\"value\"\u001b[0m\u001b[1;33m,\u001b[0m \u001b[1;32mNone\u001b[0m\u001b[1;33m)\u001b[0m\u001b[1;33m)\u001b[0m\u001b[1;33m\u001b[0m\u001b[1;33m\u001b[0m\u001b[0m\n\u001b[0;32m    442\u001b[0m             \u001b[1;32mreturn\u001b[0m \u001b[0mresponse\u001b[0m\u001b[1;33m\u001b[0m\u001b[1;33m\u001b[0m\u001b[0m\n",
      "\u001b[1;32m~\\anaconda3\\lib\\site-packages\\selenium\\webdriver\\remote\\errorhandler.py\u001b[0m in \u001b[0;36mcheck_response\u001b[1;34m(self, response)\u001b[0m\n\u001b[0;32m    243\u001b[0m                 \u001b[0malert_text\u001b[0m \u001b[1;33m=\u001b[0m \u001b[0mvalue\u001b[0m\u001b[1;33m[\u001b[0m\u001b[1;34m\"alert\"\u001b[0m\u001b[1;33m]\u001b[0m\u001b[1;33m.\u001b[0m\u001b[0mget\u001b[0m\u001b[1;33m(\u001b[0m\u001b[1;34m\"text\"\u001b[0m\u001b[1;33m)\u001b[0m\u001b[1;33m\u001b[0m\u001b[1;33m\u001b[0m\u001b[0m\n\u001b[0;32m    244\u001b[0m             \u001b[1;32mraise\u001b[0m \u001b[0mexception_class\u001b[0m\u001b[1;33m(\u001b[0m\u001b[0mmessage\u001b[0m\u001b[1;33m,\u001b[0m \u001b[0mscreen\u001b[0m\u001b[1;33m,\u001b[0m \u001b[0mstacktrace\u001b[0m\u001b[1;33m,\u001b[0m \u001b[0malert_text\u001b[0m\u001b[1;33m)\u001b[0m  \u001b[1;31m# type: ignore[call-arg]  # mypy is not smart enough here\u001b[0m\u001b[1;33m\u001b[0m\u001b[1;33m\u001b[0m\u001b[0m\n\u001b[1;32m--> 245\u001b[1;33m         \u001b[1;32mraise\u001b[0m \u001b[0mexception_class\u001b[0m\u001b[1;33m(\u001b[0m\u001b[0mmessage\u001b[0m\u001b[1;33m,\u001b[0m \u001b[0mscreen\u001b[0m\u001b[1;33m,\u001b[0m \u001b[0mstacktrace\u001b[0m\u001b[1;33m)\u001b[0m\u001b[1;33m\u001b[0m\u001b[1;33m\u001b[0m\u001b[0m\n\u001b[0m",
      "\u001b[1;31mNoSuchElementException\u001b[0m: Message: no such element: Unable to locate element: {\"method\":\"xpath\",\"selector\":\"//a[@class='s-pagination-item s-pagination-next s-pagination-button s-pagination-separator']\"}\n  (Session info: chrome=111.0.5563.66)\nStacktrace:\nBacktrace:\n\t(No symbol) [0x00EFDCE3]\n\t(No symbol) [0x00E939D1]\n\t(No symbol) [0x00DA4DA8]\n\t(No symbol) [0x00DD019F]\n\t(No symbol) [0x00DD03AB]\n\t(No symbol) [0x00DFEE62]\n\t(No symbol) [0x00DEAF14]\n\t(No symbol) [0x00DFD57C]\n\t(No symbol) [0x00DEACC6]\n\t(No symbol) [0x00DC6F68]\n\t(No symbol) [0x00DC80CD]\n\tGetHandleVerifier [0x01173832+2506274]\n\tGetHandleVerifier [0x011A9794+2727300]\n\tGetHandleVerifier [0x011AE36C+2746716]\n\tGetHandleVerifier [0x00FA6690+617600]\n\t(No symbol) [0x00E9C712]\n\t(No symbol) [0x00EA1FF8]\n\t(No symbol) [0x00EA20DB]\n\t(No symbol) [0x00EAC63B]\n\tBaseThreadInitThunk [0x7716FA29+25]\n\tRtlGetAppContainerNamedObjectPath [0x778C7A9E+286]\n\tRtlGetAppContainerNamedObjectPath [0x778C7A6E+238]\n"
     ]
    }
   ],
   "source": [
    "url=[]\n",
    "prices=[]\n",
    "name=[]\n",
    "rating=[]\n",
    "reviews=[]\n",
    "while True:\n",
    "    data=driver.find_elements(By.XPATH,\"//div[@class='a-section a-spacing-small a-spacing-top-small']\")\n",
    "    for i in range(1,len(data)):\n",
    "        data1=driver.find_elements(By.XPATH,\"//div[@class='a-section a-spacing-small a-spacing-top-small']\")\n",
    "        url.append(data1[i].find_element(By.XPATH,\".//h2[@class='a-size-mini a-spacing-none a-color-base s-line-clamp-2']//a\").get_attribute('href'))\n",
    "        name.append(data1[i].find_element(By.XPATH,\".//h2[@class='a-size-mini a-spacing-none a-color-base s-line-clamp-2']//a\").text)\n",
    "        price=data1[i].find_elements(By.XPATH,\".//span[@class='a-price-whole']\")\n",
    "        pr=[]\n",
    "        for j in range(len(price)):\n",
    "            pr.append(price[j].text)\n",
    "        prices.append('-'.join(pr))\n",
    "        try:\n",
    "            rating.append(data1[i].find_element(By.XPATH,\".//span[@class='a-size-base']\").text)\n",
    "            reviews.append(data1[i].find_element(By.XPATH,\".//span[@class='a-size-base s-underline-text']\").text)\n",
    "        except:\n",
    "            rating.append('')\n",
    "            reviews.append('')\n",
    "    try:\n",
    "        driver.execute_script('arguments[0].click();',driver.find_element(By.XPATH,\"//a[@class='s-pagination-item s-pagination-next s-pagination-button s-pagination-separator']\"))\n",
    "        time.sleep(2)\n",
    "    except:\n",
    "        break"
   ]
  },
  {
   "cell_type": "code",
   "execution_count": 27,
   "id": "83031a64",
   "metadata": {},
   "outputs": [
    {
     "data": {
      "text/html": [
       "<div>\n",
       "<style scoped>\n",
       "    .dataframe tbody tr th:only-of-type {\n",
       "        vertical-align: middle;\n",
       "    }\n",
       "\n",
       "    .dataframe tbody tr th {\n",
       "        vertical-align: top;\n",
       "    }\n",
       "\n",
       "    .dataframe thead th {\n",
       "        text-align: right;\n",
       "    }\n",
       "</style>\n",
       "<table border=\"1\" class=\"dataframe\">\n",
       "  <thead>\n",
       "    <tr style=\"text-align: right;\">\n",
       "      <th></th>\n",
       "      <th>Url</th>\n",
       "      <th>Name</th>\n",
       "      <th>Price</th>\n",
       "      <th>Reviews</th>\n",
       "      <th>Rating</th>\n",
       "    </tr>\n",
       "  </thead>\n",
       "  <tbody>\n",
       "    <tr>\n",
       "      <th>0</th>\n",
       "      <td>https://www.amazon.in/sspa/click?ie=UTF8&amp;spc=M...</td>\n",
       "      <td>uppercase Matrix Professional Anti-theft Lapto...</td>\n",
       "      <td>2,300</td>\n",
       "      <td>(13)</td>\n",
       "      <td>4.0</td>\n",
       "    </tr>\n",
       "    <tr>\n",
       "      <th>1</th>\n",
       "      <td>https://www.amazon.in/sspa/click?ie=UTF8&amp;spc=M...</td>\n",
       "      <td>uppercase SealPro Professional Laptop Backpack...</td>\n",
       "      <td>1,900</td>\n",
       "      <td>(23)</td>\n",
       "      <td>4.9</td>\n",
       "    </tr>\n",
       "    <tr>\n",
       "      <th>2</th>\n",
       "      <td>https://www.amazon.in/American-Tourister-AMT-S...</td>\n",
       "      <td>American Tourister 32 Ltrs Black Casual Backpa...</td>\n",
       "      <td>1,199</td>\n",
       "      <td>(52,349)</td>\n",
       "      <td>4.0</td>\n",
       "    </tr>\n",
       "    <tr>\n",
       "      <th>3</th>\n",
       "      <td>https://www.amazon.in/Wesley-Milestone-Waterpr...</td>\n",
       "      <td>Wesley Milestone 2.0 Casual Waterproof Laptop ...</td>\n",
       "      <td>565</td>\n",
       "      <td>(9,839)</td>\n",
       "      <td>4.3</td>\n",
       "    </tr>\n",
       "    <tr>\n",
       "      <th>4</th>\n",
       "      <td>https://www.amazon.in/Skybags-Brat-Black-Casua...</td>\n",
       "      <td>Skybags Brat Black 46 Cms Casual Backpack</td>\n",
       "      <td>669</td>\n",
       "      <td>(3,791)</td>\n",
       "      <td>4.1</td>\n",
       "    </tr>\n",
       "    <tr>\n",
       "      <th>...</th>\n",
       "      <td>...</td>\n",
       "      <td>...</td>\n",
       "      <td>...</td>\n",
       "      <td>...</td>\n",
       "      <td>...</td>\n",
       "    </tr>\n",
       "    <tr>\n",
       "      <th>409</th>\n",
       "      <td>https://www.amazon.in/PUMA-Black-Asphalt-Schoo...</td>\n",
       "      <td>PUMA 0 Ltrs puma black-asphalt School Backpack...</td>\n",
       "      <td>969</td>\n",
       "      <td>(195)</td>\n",
       "      <td>3.8</td>\n",
       "    </tr>\n",
       "    <tr>\n",
       "      <th>410</th>\n",
       "      <td>https://www.amazon.in/sspa/click?ie=UTF8&amp;spc=M...</td>\n",
       "      <td>Trilokeshwar's Unisex Polyester PU type Cloth ...</td>\n",
       "      <td>890</td>\n",
       "      <td></td>\n",
       "      <td></td>\n",
       "    </tr>\n",
       "    <tr>\n",
       "      <th>411</th>\n",
       "      <td>https://www.amazon.in/sspa/click?ie=UTF8&amp;spc=M...</td>\n",
       "      <td>Vunick Laptop backpack, Multifunctional Laptop...</td>\n",
       "      <td>899</td>\n",
       "      <td></td>\n",
       "      <td></td>\n",
       "    </tr>\n",
       "    <tr>\n",
       "      <th>412</th>\n",
       "      <td>https://www.amazon.in/sspa/click?ie=UTF8&amp;spc=M...</td>\n",
       "      <td>30 L Red And Black Backpack For Laptop</td>\n",
       "      <td>499</td>\n",
       "      <td></td>\n",
       "      <td></td>\n",
       "    </tr>\n",
       "    <tr>\n",
       "      <th>413</th>\n",
       "      <td>https://www.amazon.in/sspa/click?ie=UTF8&amp;spc=M...</td>\n",
       "      <td>Scarters Groove Next - 20L Laptop Backpack,Bag...</td>\n",
       "      <td>7,990</td>\n",
       "      <td>(34)</td>\n",
       "      <td>4.7</td>\n",
       "    </tr>\n",
       "  </tbody>\n",
       "</table>\n",
       "<p>414 rows × 5 columns</p>\n",
       "</div>"
      ],
      "text/plain": [
       "                                                   Url  \\\n",
       "0    https://www.amazon.in/sspa/click?ie=UTF8&spc=M...   \n",
       "1    https://www.amazon.in/sspa/click?ie=UTF8&spc=M...   \n",
       "2    https://www.amazon.in/American-Tourister-AMT-S...   \n",
       "3    https://www.amazon.in/Wesley-Milestone-Waterpr...   \n",
       "4    https://www.amazon.in/Skybags-Brat-Black-Casua...   \n",
       "..                                                 ...   \n",
       "409  https://www.amazon.in/PUMA-Black-Asphalt-Schoo...   \n",
       "410  https://www.amazon.in/sspa/click?ie=UTF8&spc=M...   \n",
       "411  https://www.amazon.in/sspa/click?ie=UTF8&spc=M...   \n",
       "412  https://www.amazon.in/sspa/click?ie=UTF8&spc=M...   \n",
       "413  https://www.amazon.in/sspa/click?ie=UTF8&spc=M...   \n",
       "\n",
       "                                                  Name  Price   Reviews Rating  \n",
       "0    uppercase Matrix Professional Anti-theft Lapto...  2,300      (13)    4.0  \n",
       "1    uppercase SealPro Professional Laptop Backpack...  1,900      (23)    4.9  \n",
       "2    American Tourister 32 Ltrs Black Casual Backpa...  1,199  (52,349)    4.0  \n",
       "3    Wesley Milestone 2.0 Casual Waterproof Laptop ...    565   (9,839)    4.3  \n",
       "4            Skybags Brat Black 46 Cms Casual Backpack    669   (3,791)    4.1  \n",
       "..                                                 ...    ...       ...    ...  \n",
       "409  PUMA 0 Ltrs puma black-asphalt School Backpack...    969     (195)    3.8  \n",
       "410  Trilokeshwar's Unisex Polyester PU type Cloth ...    890                   \n",
       "411  Vunick Laptop backpack, Multifunctional Laptop...    899                   \n",
       "412             30 L Red And Black Backpack For Laptop    499                   \n",
       "413  Scarters Groove Next - 20L Laptop Backpack,Bag...  7,990      (34)    4.7  \n",
       "\n",
       "[414 rows x 5 columns]"
      ]
     },
     "execution_count": 27,
     "metadata": {},
     "output_type": "execute_result"
    }
   ],
   "source": [
    "df=pd.DataFrame(list(zip(url,name,prices,reviews,rating)),columns=['Url','Name','Price','Reviews','Rating'])\n",
    "df"
   ]
  },
  {
   "cell_type": "markdown",
   "id": "9efa57c9",
   "metadata": {},
   "source": [
    "# PART-2"
   ]
  },
  {
   "cell_type": "code",
   "execution_count": 7,
   "id": "046b98d9",
   "metadata": {},
   "outputs": [
    {
     "ename": "NoSuchWindowException",
     "evalue": "Message: no such window: target window already closed\nfrom unknown error: web view not found\n  (Session info: chrome=111.0.5563.66)\nStacktrace:\nBacktrace:\n\t(No symbol) [0x00EFDCE3]\n\t(No symbol) [0x00E939D1]\n\t(No symbol) [0x00DA4DA8]\n\t(No symbol) [0x00D8D0D3]\n\t(No symbol) [0x00DEEA8B]\n\t(No symbol) [0x00DFD093]\n\t(No symbol) [0x00DEACC6]\n\t(No symbol) [0x00DC6F68]\n\t(No symbol) [0x00DC80CD]\n\tGetHandleVerifier [0x01173832+2506274]\n\tGetHandleVerifier [0x011A9794+2727300]\n\tGetHandleVerifier [0x011AE36C+2746716]\n\tGetHandleVerifier [0x00FA6690+617600]\n\t(No symbol) [0x00E9C712]\n\t(No symbol) [0x00EA1FF8]\n\t(No symbol) [0x00EA20DB]\n\t(No symbol) [0x00EAC63B]\n\tBaseThreadInitThunk [0x7716FA29+25]\n\tRtlGetAppContainerNamedObjectPath [0x778C7A9E+286]\n\tRtlGetAppContainerNamedObjectPath [0x778C7A6E+238]\n",
     "output_type": "error",
     "traceback": [
      "\u001b[1;31m---------------------------------------------------------------------------\u001b[0m",
      "\u001b[1;31mNoSuchWindowException\u001b[0m                     Traceback (most recent call last)",
      "\u001b[1;32m<ipython-input-7-877fb396bff9>\u001b[0m in \u001b[0;36m<module>\u001b[1;34m\u001b[0m\n\u001b[0;32m      3\u001b[0m \u001b[0mmanufacturer\u001b[0m\u001b[1;33m=\u001b[0m\u001b[1;33m[\u001b[0m\u001b[1;33m]\u001b[0m\u001b[1;33m\u001b[0m\u001b[1;33m\u001b[0m\u001b[0m\n\u001b[0;32m      4\u001b[0m \u001b[1;32mfor\u001b[0m \u001b[0mi\u001b[0m \u001b[1;32min\u001b[0m \u001b[0mrange\u001b[0m\u001b[1;33m(\u001b[0m\u001b[0mlen\u001b[0m\u001b[1;33m(\u001b[0m\u001b[0mdf\u001b[0m\u001b[1;33m)\u001b[0m\u001b[1;33m)\u001b[0m\u001b[1;33m:\u001b[0m\u001b[1;33m\u001b[0m\u001b[1;33m\u001b[0m\u001b[0m\n\u001b[1;32m----> 5\u001b[1;33m     \u001b[0mdriver\u001b[0m\u001b[1;33m.\u001b[0m\u001b[0mget\u001b[0m\u001b[1;33m(\u001b[0m\u001b[0mdf\u001b[0m\u001b[1;33m.\u001b[0m\u001b[0miloc\u001b[0m\u001b[1;33m[\u001b[0m\u001b[0mi\u001b[0m\u001b[1;33m]\u001b[0m\u001b[1;33m[\u001b[0m\u001b[1;36m1\u001b[0m\u001b[1;33m]\u001b[0m\u001b[1;33m)\u001b[0m\u001b[1;33m\u001b[0m\u001b[1;33m\u001b[0m\u001b[0m\n\u001b[0m\u001b[0;32m      6\u001b[0m     \u001b[0mtime\u001b[0m\u001b[1;33m.\u001b[0m\u001b[0msleep\u001b[0m\u001b[1;33m(\u001b[0m\u001b[1;36m2\u001b[0m\u001b[1;33m)\u001b[0m\u001b[1;33m\u001b[0m\u001b[1;33m\u001b[0m\u001b[0m\n\u001b[0;32m      7\u001b[0m     \u001b[1;32mtry\u001b[0m\u001b[1;33m:\u001b[0m\u001b[1;33m\u001b[0m\u001b[1;33m\u001b[0m\u001b[0m\n",
      "\u001b[1;32m~\\anaconda3\\lib\\site-packages\\selenium\\webdriver\\remote\\webdriver.py\u001b[0m in \u001b[0;36mget\u001b[1;34m(self, url)\u001b[0m\n\u001b[0;32m    447\u001b[0m     \u001b[1;32mdef\u001b[0m \u001b[0mget\u001b[0m\u001b[1;33m(\u001b[0m\u001b[0mself\u001b[0m\u001b[1;33m,\u001b[0m \u001b[0murl\u001b[0m\u001b[1;33m:\u001b[0m \u001b[0mstr\u001b[0m\u001b[1;33m)\u001b[0m \u001b[1;33m->\u001b[0m \u001b[1;32mNone\u001b[0m\u001b[1;33m:\u001b[0m\u001b[1;33m\u001b[0m\u001b[1;33m\u001b[0m\u001b[0m\n\u001b[0;32m    448\u001b[0m         \u001b[1;34m\"\"\"Loads a web page in the current browser session.\"\"\"\u001b[0m\u001b[1;33m\u001b[0m\u001b[1;33m\u001b[0m\u001b[0m\n\u001b[1;32m--> 449\u001b[1;33m         \u001b[0mself\u001b[0m\u001b[1;33m.\u001b[0m\u001b[0mexecute\u001b[0m\u001b[1;33m(\u001b[0m\u001b[0mCommand\u001b[0m\u001b[1;33m.\u001b[0m\u001b[0mGET\u001b[0m\u001b[1;33m,\u001b[0m \u001b[1;33m{\u001b[0m\u001b[1;34m\"url\"\u001b[0m\u001b[1;33m:\u001b[0m \u001b[0murl\u001b[0m\u001b[1;33m}\u001b[0m\u001b[1;33m)\u001b[0m\u001b[1;33m\u001b[0m\u001b[1;33m\u001b[0m\u001b[0m\n\u001b[0m\u001b[0;32m    450\u001b[0m \u001b[1;33m\u001b[0m\u001b[0m\n\u001b[0;32m    451\u001b[0m     \u001b[1;33m@\u001b[0m\u001b[0mproperty\u001b[0m\u001b[1;33m\u001b[0m\u001b[1;33m\u001b[0m\u001b[0m\n",
      "\u001b[1;32m~\\anaconda3\\lib\\site-packages\\selenium\\webdriver\\remote\\webdriver.py\u001b[0m in \u001b[0;36mexecute\u001b[1;34m(self, driver_command, params)\u001b[0m\n\u001b[0;32m    438\u001b[0m         \u001b[0mresponse\u001b[0m \u001b[1;33m=\u001b[0m \u001b[0mself\u001b[0m\u001b[1;33m.\u001b[0m\u001b[0mcommand_executor\u001b[0m\u001b[1;33m.\u001b[0m\u001b[0mexecute\u001b[0m\u001b[1;33m(\u001b[0m\u001b[0mdriver_command\u001b[0m\u001b[1;33m,\u001b[0m \u001b[0mparams\u001b[0m\u001b[1;33m)\u001b[0m\u001b[1;33m\u001b[0m\u001b[1;33m\u001b[0m\u001b[0m\n\u001b[0;32m    439\u001b[0m         \u001b[1;32mif\u001b[0m \u001b[0mresponse\u001b[0m\u001b[1;33m:\u001b[0m\u001b[1;33m\u001b[0m\u001b[1;33m\u001b[0m\u001b[0m\n\u001b[1;32m--> 440\u001b[1;33m             \u001b[0mself\u001b[0m\u001b[1;33m.\u001b[0m\u001b[0merror_handler\u001b[0m\u001b[1;33m.\u001b[0m\u001b[0mcheck_response\u001b[0m\u001b[1;33m(\u001b[0m\u001b[0mresponse\u001b[0m\u001b[1;33m)\u001b[0m\u001b[1;33m\u001b[0m\u001b[1;33m\u001b[0m\u001b[0m\n\u001b[0m\u001b[0;32m    441\u001b[0m             \u001b[0mresponse\u001b[0m\u001b[1;33m[\u001b[0m\u001b[1;34m\"value\"\u001b[0m\u001b[1;33m]\u001b[0m \u001b[1;33m=\u001b[0m \u001b[0mself\u001b[0m\u001b[1;33m.\u001b[0m\u001b[0m_unwrap_value\u001b[0m\u001b[1;33m(\u001b[0m\u001b[0mresponse\u001b[0m\u001b[1;33m.\u001b[0m\u001b[0mget\u001b[0m\u001b[1;33m(\u001b[0m\u001b[1;34m\"value\"\u001b[0m\u001b[1;33m,\u001b[0m \u001b[1;32mNone\u001b[0m\u001b[1;33m)\u001b[0m\u001b[1;33m)\u001b[0m\u001b[1;33m\u001b[0m\u001b[1;33m\u001b[0m\u001b[0m\n\u001b[0;32m    442\u001b[0m             \u001b[1;32mreturn\u001b[0m \u001b[0mresponse\u001b[0m\u001b[1;33m\u001b[0m\u001b[1;33m\u001b[0m\u001b[0m\n",
      "\u001b[1;32m~\\anaconda3\\lib\\site-packages\\selenium\\webdriver\\remote\\errorhandler.py\u001b[0m in \u001b[0;36mcheck_response\u001b[1;34m(self, response)\u001b[0m\n\u001b[0;32m    243\u001b[0m                 \u001b[0malert_text\u001b[0m \u001b[1;33m=\u001b[0m \u001b[0mvalue\u001b[0m\u001b[1;33m[\u001b[0m\u001b[1;34m\"alert\"\u001b[0m\u001b[1;33m]\u001b[0m\u001b[1;33m.\u001b[0m\u001b[0mget\u001b[0m\u001b[1;33m(\u001b[0m\u001b[1;34m\"text\"\u001b[0m\u001b[1;33m)\u001b[0m\u001b[1;33m\u001b[0m\u001b[1;33m\u001b[0m\u001b[0m\n\u001b[0;32m    244\u001b[0m             \u001b[1;32mraise\u001b[0m \u001b[0mexception_class\u001b[0m\u001b[1;33m(\u001b[0m\u001b[0mmessage\u001b[0m\u001b[1;33m,\u001b[0m \u001b[0mscreen\u001b[0m\u001b[1;33m,\u001b[0m \u001b[0mstacktrace\u001b[0m\u001b[1;33m,\u001b[0m \u001b[0malert_text\u001b[0m\u001b[1;33m)\u001b[0m  \u001b[1;31m# type: ignore[call-arg]  # mypy is not smart enough here\u001b[0m\u001b[1;33m\u001b[0m\u001b[1;33m\u001b[0m\u001b[0m\n\u001b[1;32m--> 245\u001b[1;33m         \u001b[1;32mraise\u001b[0m \u001b[0mexception_class\u001b[0m\u001b[1;33m(\u001b[0m\u001b[0mmessage\u001b[0m\u001b[1;33m,\u001b[0m \u001b[0mscreen\u001b[0m\u001b[1;33m,\u001b[0m \u001b[0mstacktrace\u001b[0m\u001b[1;33m)\u001b[0m\u001b[1;33m\u001b[0m\u001b[1;33m\u001b[0m\u001b[0m\n\u001b[0m",
      "\u001b[1;31mNoSuchWindowException\u001b[0m: Message: no such window: target window already closed\nfrom unknown error: web view not found\n  (Session info: chrome=111.0.5563.66)\nStacktrace:\nBacktrace:\n\t(No symbol) [0x00EFDCE3]\n\t(No symbol) [0x00E939D1]\n\t(No symbol) [0x00DA4DA8]\n\t(No symbol) [0x00D8D0D3]\n\t(No symbol) [0x00DEEA8B]\n\t(No symbol) [0x00DFD093]\n\t(No symbol) [0x00DEACC6]\n\t(No symbol) [0x00DC6F68]\n\t(No symbol) [0x00DC80CD]\n\tGetHandleVerifier [0x01173832+2506274]\n\tGetHandleVerifier [0x011A9794+2727300]\n\tGetHandleVerifier [0x011AE36C+2746716]\n\tGetHandleVerifier [0x00FA6690+617600]\n\t(No symbol) [0x00E9C712]\n\t(No symbol) [0x00EA1FF8]\n\t(No symbol) [0x00EA20DB]\n\t(No symbol) [0x00EAC63B]\n\tBaseThreadInitThunk [0x7716FA29+25]\n\tRtlGetAppContainerNamedObjectPath [0x778C7A9E+286]\n\tRtlGetAppContainerNamedObjectPath [0x778C7A6E+238]\n"
     ]
    }
   ],
   "source": [
    "asin=[]\n",
    "prod_desc=[]\n",
    "manufacturer=[]\n",
    "for i in range(len(df)):\n",
    "    driver.get(df.iloc[i][1])\n",
    "    time.sleep(2)\n",
    "    try:\n",
    "        l=driver.find_elements(By.XPATH,\"//div[@id='detailBullets_feature_div']//li\")\n",
    "        x=y=False\n",
    "        for j in range(len(l)):\n",
    "            if l[j].find_element(By.XPATH,\".//span[@class='a-text-bold']\").text.split(' :')[0]=='Manufacturer' and x==False:\n",
    "                manufacturer.append(l[j].text.split(':')[1])\n",
    "                x=True\n",
    "            elif l[j].find_element(By.XPATH,\".//span[@class='a-text-bold']\").text.split(' :')[0]=='ASIN' and y==False:\n",
    "                asin.append(l[j].text.split(':')[1])\n",
    "                y=True\n",
    "        if x==False:\n",
    "            manufacturer.append('')\n",
    "        if y==False:\n",
    "            asin.append('')\n",
    "    except:\n",
    "        manufacturer.append('')\n",
    "        asin.append('')\n",
    "    try:\n",
    "        li=driver.find_elements(By.XPATH,\"//div[@id='productDescription']//p\")\n",
    "        mf=[]\n",
    "        for k in range(len(li)):\n",
    "            mf.append(li[k].text)\n",
    "        prod_desc.append(' '.join(mf))\n",
    "    except:\n",
    "        prod_desc.append('')\n",
    "            \n",
    "        "
   ]
  },
  {
   "cell_type": "code",
   "execution_count": null,
   "id": "23c80e52",
   "metadata": {},
   "outputs": [],
   "source": [
    "df['ASIN']=asin\n",
    "df['Product_Description']=prod_desc\n",
    "df['Manufacturer']=manufacturer"
   ]
  },
  {
   "cell_type": "code",
   "execution_count": 28,
   "id": "f3101c24",
   "metadata": {},
   "outputs": [],
   "source": [
    "df.to_csv('Python Project2.csv')"
   ]
  },
  {
   "cell_type": "code",
   "execution_count": null,
   "id": "f83ac8f2",
   "metadata": {},
   "outputs": [],
   "source": []
  }
 ],
 "metadata": {
  "kernelspec": {
   "display_name": "Python 3",
   "language": "python",
   "name": "python3"
  },
  "language_info": {
   "codemirror_mode": {
    "name": "ipython",
    "version": 3
   },
   "file_extension": ".py",
   "mimetype": "text/x-python",
   "name": "python",
   "nbconvert_exporter": "python",
   "pygments_lexer": "ipython3",
   "version": "3.8.8"
  }
 },
 "nbformat": 4,
 "nbformat_minor": 5
}
